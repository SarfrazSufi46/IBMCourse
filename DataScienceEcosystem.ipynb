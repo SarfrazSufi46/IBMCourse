{
  "nbformat": 4,
  "nbformat_minor": 0,
  "metadata": {
    "colab": {
      "provenance": []
    },
    "kernelspec": {
      "name": "python3",
      "display_name": "Python 3"
    },
    "language_info": {
      "name": "python"
    }
  },
  "cells": [
    {
      "cell_type": "markdown",
      "source": [
        "# Data Science Tools and Ecosystem"
      ],
      "metadata": {
        "id": "RmX_4v27EXhp"
      }
    },
    {
      "cell_type": "markdown",
      "source": [
        "In this notebook, Data Science Tools and Ecosystem are summarized"
      ],
      "metadata": {
        "id": "iuH6udMjGAKo"
      }
    },
    {
      "cell_type": "markdown",
      "source": [
        "Some of the popular languages that Data Scientists use are:\n",
        "1. Python\n",
        "2. R\n",
        "3. SQL\n",
        "4. C/C++"
      ],
      "metadata": {
        "id": "zPSIwo_3Gbnu"
      }
    },
    {
      "cell_type": "markdown",
      "source": [
        "Some of the commonly used libraries used by Data Scientists include:\n",
        "1. Pandas\n",
        "2. Numpy\n",
        "3. Keras\n",
        "4. Tensorflow\n",
        "5. Pytorch"
      ],
      "metadata": {
        "id": "pK5pkFJRIf6O"
      }
    },
    {
      "cell_type": "markdown",
      "source": [
        "|Data Science Tools|\n",
        "|------------------|\n",
        "|   Python   |\n",
        "|   jupyter  |\n",
        "|   SQL      |\n"
      ],
      "metadata": {
        "id": "DqoVlpSUKsgI"
      }
    },
    {
      "cell_type": "markdown",
      "source": [
        " ### Below are a few examples of evaluating arithmetic expressions in  python :"
      ],
      "metadata": {
        "id": "hIZBw1Z_MzWi"
      }
    },
    {
      "cell_type": "code",
      "source": [
        "#This a simple arithmetic expression to mutiply then add integers\n",
        "(3*4)+5"
      ],
      "metadata": {
        "colab": {
          "base_uri": "https://localhost:8080/"
        },
        "id": "AKcsPDHbN-TW",
        "outputId": "81ce21c7-65d7-4d36-9611-3a20c51065ad"
      },
      "execution_count": 3,
      "outputs": [
        {
          "output_type": "execute_result",
          "data": {
            "text/plain": [
              "17"
            ]
          },
          "metadata": {},
          "execution_count": 3
        }
      ]
    },
    {
      "cell_type": "code",
      "source": [
        "#This will convert 200 minutes to hours by diving by 60\n",
        "200/60"
      ],
      "metadata": {
        "colab": {
          "base_uri": "https://localhost:8080/"
        },
        "id": "7NSQRACwOIuZ",
        "outputId": "b7ed775b-e0ce-48d2-a353-4d58b810cc5c"
      },
      "execution_count": 4,
      "outputs": [
        {
          "output_type": "execute_result",
          "data": {
            "text/plain": [
              "3.3333333333333335"
            ]
          },
          "metadata": {},
          "execution_count": 4
        }
      ]
    },
    {
      "cell_type": "code",
      "source": [
        "** Objective **"
      ],
      "metadata": {
        "id": "KNmcy9RAO2Fp"
      },
      "execution_count": null,
      "outputs": []
    },
    {
      "cell_type": "markdown",
      "source": [
        "**Objective**\n",
        "* List popular programming languages used in Data Science\n",
        "* Understand the importance of Data Cleaning and Preprocessing\n",
        "* Perform Exploratory Data Analysis (EDA) using visualizations and summary statistics\n",
        "* Build and evaluate Machine Learning models\n",
        "* Use libraries like Pandas, NumPy, Matplotlib, and Scikit-learn to work with data and build models."
      ],
      "metadata": {
        "id": "OsxSnbXVRQz3"
      }
    },
    {
      "cell_type": "markdown",
      "source": [
        "## Author \n",
        "Sarfraz"
      ],
      "metadata": {
        "id": "DEaF3WK5V8Qw"
      }
    }
  ]
}